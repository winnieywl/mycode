{
 "cells": [
  {
   "cell_type": "code",
   "execution_count": 9,
   "id": "e9ed9ca4-8e44-4614-b947-595b318c26e8",
   "metadata": {},
   "outputs": [
    {
     "data": {
      "text/plain": [
       "{'response_code': 0,\n",
       " 'results': [{'category': 'History',\n",
       "   'type': 'multiple',\n",
       "   'difficulty': 'easy',\n",
       "   'question': 'How many manned moon landings have there been?',\n",
       "   'correct_answer': '6',\n",
       "   'incorrect_answers': ['1', '3', '7']},\n",
       "  {'category': 'Entertainment: Books',\n",
       "   'type': 'multiple',\n",
       "   'difficulty': 'hard',\n",
       "   'question': 'In the Harry Potter universe, what is Cornelius Fudge&#039;s middle name?',\n",
       "   'correct_answer': 'Oswald',\n",
       "   'incorrect_answers': ['James', 'Harold', 'Christopher']},\n",
       "  {'category': 'General Knowledge',\n",
       "   'type': 'multiple',\n",
       "   'difficulty': 'hard',\n",
       "   'question': 'In &quot;Resident Evil 3&quot;, how many inventory slots does Jill have at the start of the game?',\n",
       "   'correct_answer': '10',\n",
       "   'incorrect_answers': ['6', '8', '12']}]}"
      ]
     },
     "execution_count": 9,
     "metadata": {},
     "output_type": "execute_result"
    }
   ],
   "source": [
    "import requests\n",
    "import html\n",
    "URL= \"https://opentdb.com/api.php?amount=3&type=multiple\"\n",
    "# data will be a python dictionary rendered from your API link's JSON!\n",
    "data= requests.get(URL).json()\n",
    "data"
   ]
  },
  {
   "cell_type": "code",
   "execution_count": 12,
   "id": "a924b499-d628-4561-a041-33f414391326",
   "metadata": {},
   "outputs": [
    {
     "name": "stdout",
     "output_type": "stream",
     "text": [
      "How many manned moon landings have there been?\n",
      "6\n",
      "1\n",
      "3\n",
      "7\n",
      "In the Harry Potter universe, what is Cornelius Fudge's middle name?\n",
      "Oswald\n",
      "James\n",
      "Harold\n",
      "Christopher\n",
      "In \"Resident Evil 3\", how many inventory slots does Jill have at the start of the game?\n",
      "10\n",
      "6\n",
      "8\n",
      "12\n"
     ]
    }
   ],
   "source": [
    "for a in data['results']:\n",
    "    print(html.unescape(a[\"question\"]))\n",
    "    print(html.unescape(a[\"correct_answer\"]))\n",
    "    for y in a[\"incorrect_answers\"]:\n",
    "        print(html.unescape(y)) # html unescape cannot be applied to a list. It can only be applied to a string. So we need another forloop for it.\n"
   ]
  },
  {
   "cell_type": "code",
   "execution_count": null,
   "id": "7893f44b-32e4-49ef-b3d8-8dc023e150ec",
   "metadata": {},
   "outputs": [],
   "source": [
    "# random.choice  grabs a random element\n",
    "# random.shuffle randomize the order of a list\n"
   ]
  },
  {
   "cell_type": "code",
   "execution_count": null,
   "id": "b1df2cbc-a55f-4bb4-bd67-47c425d5ecc2",
   "metadata": {},
   "outputs": [],
   "source": []
  },
  {
   "cell_type": "code",
   "execution_count": null,
   "id": "cb0ce229-6411-4bdd-8212-3febd22fab95",
   "metadata": {},
   "outputs": [],
   "source": []
  },
  {
   "cell_type": "code",
   "execution_count": null,
   "id": "4343a3fd-e1dd-45f4-9d68-9786b45e6b88",
   "metadata": {},
   "outputs": [],
   "source": []
  },
  {
   "cell_type": "code",
   "execution_count": null,
   "id": "adc39f80-f270-422c-94c9-8d7ef62056e6",
   "metadata": {},
   "outputs": [],
   "source": []
  },
  {
   "cell_type": "code",
   "execution_count": null,
   "id": "ed1fe255-0973-45d6-8289-af74a8da2852",
   "metadata": {},
   "outputs": [],
   "source": []
  },
  {
   "cell_type": "code",
   "execution_count": null,
   "id": "9bcd1f92-356c-478a-9b44-2ce2311fd56f",
   "metadata": {},
   "outputs": [],
   "source": []
  },
  {
   "cell_type": "code",
   "execution_count": null,
   "id": "3c759076-d227-4a31-9a73-8c96a6b9e8da",
   "metadata": {},
   "outputs": [],
   "source": []
  }
 ],
 "metadata": {
  "kernelspec": {
   "display_name": "Python 3 (ipykernel)",
   "language": "python",
   "name": "python3"
  },
  "language_info": {
   "codemirror_mode": {
    "name": "ipython",
    "version": 3
   },
   "file_extension": ".py",
   "mimetype": "text/x-python",
   "name": "python",
   "nbconvert_exporter": "python",
   "pygments_lexer": "ipython3",
   "version": "3.8.10"
  }
 },
 "nbformat": 4,
 "nbformat_minor": 5
}
