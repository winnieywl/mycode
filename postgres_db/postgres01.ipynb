{
 "cells": [
  {
   "cell_type": "code",
   "execution_count": 2,
   "id": "8e35dc02-212c-4c62-bfbc-7db8774931bf",
   "metadata": {},
   "outputs": [
    {
     "name": "stdout",
     "output_type": "stream",
     "text": [
      "[]\n"
     ]
    }
   ],
   "source": [
    "# python3 -m pip install psycopg2\n",
    "import psycopg2\n",
    "\n",
    "try:\n",
    "    connect_str = \"dbname='testpython' user='winnie' host='localhost' \" + \\\n",
    "                  \"password='winnie'\"\n",
    "    \n",
    "    # use our connection values to establish a connection\n",
    "    conn = psycopg2.connect(connect_str)\n",
    "    \n",
    "    # create a psycopg2 cursor that can execute queries\n",
    "    cursor = conn.cursor()\n",
    "    \n",
    "    # create a new table with a single column called \"name\"\n",
    "    cursor.execute(\"\"\"CREATE TABLE IF NOT EXISTS tutorials (name char(40));\"\"\")\n",
    "    \n",
    "    # run a SELECT statement - no data in there, but we can try it\n",
    "    cursor.execute(\"\"\"SELECT * from tutorials\"\"\")\n",
    "    \n",
    "    conn.commit() # <--- makes sure the change is shown in the database\n",
    "    rows = cursor.fetchall()\n",
    "    print(rows)\n",
    "    cursor.close()\n",
    "    conn.close()\n",
    "    \n",
    "except Exception as e:\n",
    "    print(\"Uh oh, can't connect. Invalid dbname, user or password?\")\n",
    "    print(e)    "
   ]
  },
  {
   "cell_type": "code",
   "execution_count": null,
   "id": "080b39c6-fb2e-46c3-a33e-3b1ef235cbed",
   "metadata": {},
   "outputs": [],
   "source": []
  },
  {
   "cell_type": "code",
   "execution_count": null,
   "id": "7bd97831-0c8f-44c8-b721-c1379a04e62f",
   "metadata": {},
   "outputs": [],
   "source": []
  },
  {
   "cell_type": "code",
   "execution_count": null,
   "id": "68c2ff12-50ca-4b73-9351-c822672d1f16",
   "metadata": {},
   "outputs": [],
   "source": []
  },
  {
   "cell_type": "code",
   "execution_count": null,
   "id": "1550aed4-c8fa-478c-af80-13175e57df17",
   "metadata": {},
   "outputs": [],
   "source": []
  },
  {
   "cell_type": "code",
   "execution_count": null,
   "id": "ca54692d-3d63-4eba-90cc-a6f643c071a7",
   "metadata": {},
   "outputs": [],
   "source": []
  },
  {
   "cell_type": "code",
   "execution_count": null,
   "id": "34e86268-3cbf-4724-b816-fb259810feeb",
   "metadata": {},
   "outputs": [],
   "source": []
  },
  {
   "cell_type": "code",
   "execution_count": null,
   "id": "44b161dc-0404-444e-b49d-78255dcffac4",
   "metadata": {},
   "outputs": [],
   "source": []
  },
  {
   "cell_type": "code",
   "execution_count": null,
   "id": "e506c4ab-fa9c-40fc-b0b4-39afa27d60e7",
   "metadata": {},
   "outputs": [],
   "source": []
  },
  {
   "cell_type": "code",
   "execution_count": null,
   "id": "2a0131da-73ee-4a16-9eb7-81bf8b831b29",
   "metadata": {},
   "outputs": [],
   "source": []
  },
  {
   "cell_type": "code",
   "execution_count": null,
   "id": "265393d3-dfcb-4557-979c-024ebaafba0d",
   "metadata": {},
   "outputs": [],
   "source": []
  },
  {
   "cell_type": "code",
   "execution_count": null,
   "id": "ff5c0327-1efa-4126-8380-0a672b58dd76",
   "metadata": {},
   "outputs": [],
   "source": []
  },
  {
   "cell_type": "code",
   "execution_count": null,
   "id": "19a94e36-4db6-4e52-9ea3-847649d9f212",
   "metadata": {},
   "outputs": [],
   "source": []
  },
  {
   "cell_type": "code",
   "execution_count": null,
   "id": "5ff2bb90-986e-42d1-9375-8cfe32c39e21",
   "metadata": {},
   "outputs": [],
   "source": []
  }
 ],
 "metadata": {
  "kernelspec": {
   "display_name": "Python 3 (ipykernel)",
   "language": "python",
   "name": "python3"
  },
  "language_info": {
   "codemirror_mode": {
    "name": "ipython",
    "version": 3
   },
   "file_extension": ".py",
   "mimetype": "text/x-python",
   "name": "python",
   "nbconvert_exporter": "python",
   "pygments_lexer": "ipython3",
   "version": "3.8.10"
  }
 },
 "nbformat": 4,
 "nbformat_minor": 5
}
