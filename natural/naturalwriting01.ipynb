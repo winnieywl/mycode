{
 "cells": [
  {
   "cell_type": "code",
   "execution_count": 1,
   "id": "c8c7aa20-7ade-4251-a024-6da58db9f9ec",
   "metadata": {},
   "outputs": [],
   "source": [
    "def text2paragraphs(filename, min_size=1):\n",
    "    \"\"\" A text contained in the file 'filename' will be read \n",
    "    and chopped into paragraphs.\n",
    "    Paragraphs with a string length less than min_size will be ignored.\n",
    "    A list of paragraph strings will be returned\"\"\"\n",
    "    \n",
    "    txt = open(filename).read()\n",
    "    paragraphs = [para for para in txt.split(\"\\n\\n\") if len(para) > min_size]\n",
    "    return paragraphs\n",
    "# chunk up those books into a list of paragraphs!"
   ]
  },
  {
   "cell_type": "code",
   "execution_count": 10,
   "id": "434b4869-6537-4d4f-9560-11d602a9ddb0",
   "metadata": {},
   "outputs": [],
   "source": [
    "# the position of lables is very important\n",
    "# it corresponds to a novel by that author within \"files\"\n",
    "# the position of the author is also relevant, as it will correspond to metrics\n",
    "# i.e. Samuel Butler's metrics are always returned in position 1\n",
    "labels = ['Virginia Woolf', 'Samuel Butler', 'Herman Melville', \n",
    "          'David Herbert Lawrence', 'Daniel Defoe', 'James Joyce']\n",
    "\n",
    "\n",
    "# names of books we have to train our machine model\n",
    "files = ['night_and_day_virginia_woolf.txt', 'the_way_of_all_flash_butler.txt',\n",
    "         'moby_dick_melville.txt', 'sons_and_lovers_lawrence.txt',\n",
    "         'robinson_crusoe_defoe.txt', 'james_joyce_ulysses.txt']\n",
    "\n",
    "# location of our books\n",
    "path = \"books/\""
   ]
  },
  {
   "cell_type": "code",
   "execution_count": 11,
   "id": "9ee7529f-e08a-44c4-b18c-428c409df3cc",
   "metadata": {},
   "outputs": [
    {
     "ename": "FileNotFoundError",
     "evalue": "[Errno 2] No such file or directory: 'books/night_and_day_virginia_woolf.txt'",
     "output_type": "error",
     "traceback": [
      "\u001b[0;31m---------------------------------------------------------------------------\u001b[0m",
      "\u001b[0;31mFileNotFoundError\u001b[0m                         Traceback (most recent call last)",
      "Input \u001b[0;32mIn [11]\u001b[0m, in \u001b[0;36m<cell line: 6>\u001b[0;34m()\u001b[0m\n\u001b[1;32m      5\u001b[0m \u001b[38;5;66;03m# loop across all files we have downloaded\u001b[39;00m\n\u001b[1;32m      6\u001b[0m \u001b[38;5;28;01mfor\u001b[39;00m fname \u001b[38;5;129;01min\u001b[39;00m files:\n\u001b[0;32m----> 7\u001b[0m     paras \u001b[38;5;241m=\u001b[39m \u001b[43mtext2paragraphs\u001b[49m\u001b[43m(\u001b[49m\u001b[43mpath\u001b[49m\u001b[43m \u001b[49m\u001b[38;5;241;43m+\u001b[39;49m\u001b[43m \u001b[49m\u001b[43mfname\u001b[49m\u001b[43m,\u001b[49m\u001b[43m \u001b[49m\u001b[43mmin_size\u001b[49m\u001b[38;5;241;43m=\u001b[39;49m\u001b[38;5;241;43m150\u001b[39;49m\u001b[43m)\u001b[49m \u001b[38;5;66;03m# return a book with paragraphs over 150 chars in a list\u001b[39;00m\n\u001b[1;32m      8\u001b[0m     data\u001b[38;5;241m.\u001b[39mextend(paras)\n\u001b[1;32m      9\u001b[0m     targets \u001b[38;5;241m+\u001b[39m\u001b[38;5;241m=\u001b[39m [counter] \u001b[38;5;241m*\u001b[39m \u001b[38;5;28mlen\u001b[39m(paras)\n",
      "Input \u001b[0;32mIn [1]\u001b[0m, in \u001b[0;36mtext2paragraphs\u001b[0;34m(filename, min_size)\u001b[0m\n\u001b[1;32m      1\u001b[0m \u001b[38;5;28;01mdef\u001b[39;00m \u001b[38;5;21mtext2paragraphs\u001b[39m(filename, min_size\u001b[38;5;241m=\u001b[39m\u001b[38;5;241m1\u001b[39m):\n\u001b[1;32m      2\u001b[0m     \u001b[38;5;124;03m\"\"\" A text contained in the file 'filename' will be read \u001b[39;00m\n\u001b[1;32m      3\u001b[0m \u001b[38;5;124;03m    and chopped into paragraphs.\u001b[39;00m\n\u001b[1;32m      4\u001b[0m \u001b[38;5;124;03m    Paragraphs with a string length less than min_size will be ignored.\u001b[39;00m\n\u001b[1;32m      5\u001b[0m \u001b[38;5;124;03m    A list of paragraph strings will be returned\"\"\"\u001b[39;00m\n\u001b[0;32m----> 7\u001b[0m     txt \u001b[38;5;241m=\u001b[39m \u001b[38;5;28;43mopen\u001b[39;49m\u001b[43m(\u001b[49m\u001b[43mfilename\u001b[49m\u001b[43m)\u001b[49m\u001b[38;5;241m.\u001b[39mread()\n\u001b[1;32m      8\u001b[0m     paragraphs \u001b[38;5;241m=\u001b[39m [para \u001b[38;5;28;01mfor\u001b[39;00m para \u001b[38;5;129;01min\u001b[39;00m txt\u001b[38;5;241m.\u001b[39msplit(\u001b[38;5;124m\"\u001b[39m\u001b[38;5;130;01m\\n\u001b[39;00m\u001b[38;5;130;01m\\n\u001b[39;00m\u001b[38;5;124m\"\u001b[39m) \u001b[38;5;28;01mif\u001b[39;00m \u001b[38;5;28mlen\u001b[39m(para) \u001b[38;5;241m>\u001b[39m min_size]\n\u001b[1;32m      9\u001b[0m     \u001b[38;5;28;01mreturn\u001b[39;00m paragraphs\n",
      "\u001b[0;31mFileNotFoundError\u001b[0m: [Errno 2] No such file or directory: 'books/night_and_day_virginia_woolf.txt'"
     ]
    }
   ],
   "source": [
    "data = []\n",
    "targets = []\n",
    "counter = 0\n",
    "\n",
    "# loop across all files we have downloaded\n",
    "for fname in files:\n",
    "    paras = text2paragraphs(path + fname, min_size=150) # return a book with paragraphs over 150 chars in a list\n",
    "    data.extend(paras)\n",
    "    targets += [counter] * len(paras)\n",
    "    counter += 1\n",
    "    # question: under what circumstance do you need a counter, under what do you not need one?"
   ]
  },
  {
   "cell_type": "code",
   "execution_count": 5,
   "id": "a37fd732-1702-45eb-bb4e-3e411c9914dd",
   "metadata": {},
   "outputs": [
    {
     "data": {
      "text/plain": [
       "[]"
      ]
     },
     "execution_count": 5,
     "metadata": {},
     "output_type": "execute_result"
    }
   ],
   "source": [
    "data"
   ]
  },
  {
   "cell_type": "code",
   "execution_count": 7,
   "id": "7ddf1ebd-9602-4a8b-ab7a-b7cf057bd1f4",
   "metadata": {},
   "outputs": [
    {
     "data": {
      "text/plain": [
       "['night_and_day_virginia_woolf.txt',\n",
       " 'the_way_of_all_flash_butler.txt',\n",
       " 'moby_dick_melville.txt',\n",
       " 'sons_and_lovers_lawrence.txt',\n",
       " 'robinson_crusoe_defoe.txt',\n",
       " 'james_joyce_ulysses.txt']"
      ]
     },
     "execution_count": 7,
     "metadata": {},
     "output_type": "execute_result"
    }
   ],
   "source": [
    "files"
   ]
  },
  {
   "cell_type": "code",
   "execution_count": null,
   "id": "e64a3e22-fdf7-433f-bb81-6aac8dfc984b",
   "metadata": {},
   "outputs": [],
   "source": []
  },
  {
   "cell_type": "code",
   "execution_count": null,
   "id": "4b7af37a-3b24-4f61-81db-7a8c34524228",
   "metadata": {},
   "outputs": [],
   "source": []
  },
  {
   "cell_type": "code",
   "execution_count": null,
   "id": "43ead87a-5826-4e6a-9958-c3700f969f96",
   "metadata": {},
   "outputs": [],
   "source": []
  },
  {
   "cell_type": "code",
   "execution_count": null,
   "id": "a2caa893-5abf-48ce-919e-1963fc8d6f7c",
   "metadata": {},
   "outputs": [],
   "source": []
  },
  {
   "cell_type": "code",
   "execution_count": null,
   "id": "c41f6df4-8dc6-4477-8948-f6279c03af06",
   "metadata": {},
   "outputs": [],
   "source": []
  },
  {
   "cell_type": "code",
   "execution_count": null,
   "id": "25458253-b16f-41c7-9232-81c7ad76efd9",
   "metadata": {},
   "outputs": [],
   "source": []
  },
  {
   "cell_type": "code",
   "execution_count": null,
   "id": "e7a16819-0bed-4a07-865c-22290f2bbe20",
   "metadata": {},
   "outputs": [],
   "source": []
  }
 ],
 "metadata": {
  "kernelspec": {
   "display_name": "Python 3 (ipykernel)",
   "language": "python",
   "name": "python3"
  },
  "language_info": {
   "codemirror_mode": {
    "name": "ipython",
    "version": 3
   },
   "file_extension": ".py",
   "mimetype": "text/x-python",
   "name": "python",
   "nbconvert_exporter": "python",
   "pygments_lexer": "ipython3",
   "version": "3.8.10"
  }
 },
 "nbformat": 4,
 "nbformat_minor": 5
}
